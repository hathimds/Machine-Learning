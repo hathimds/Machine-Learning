{
 "cells": [
  {
   "cell_type": "markdown",
   "id": "974e51ac",
   "metadata": {},
   "source": [
    "# <span style = \"color:gray\"> Bank Marketing Term Deposit Prediction </span>"
   ]
  },
  {
   "cell_type": "markdown",
   "id": "091b6715",
   "metadata": {},
   "source": [
    "***"
   ]
  },
  {
   "cell_type": "markdown",
   "id": "1e895dda",
   "metadata": {},
   "source": [
    "This is the classic marketing bank dataset uploaded originally in the UCI Machine Learning Repository. The dataset gives you information about a marketing campaign of a financial institution in which you will have to analyze in order to find ways to look for future strategies in order to improve future marketing campaigns for the bank."
   ]
  },
  {
   "cell_type": "markdown",
   "id": "a7c7e9cd",
   "metadata": {},
   "source": [
    "## <span style = \"color: blue\"> Attributes </span>"
   ]
  },
  {
   "cell_type": "markdown",
   "id": "1573df06",
   "metadata": {},
   "source": [
    "* age : Age in years\n",
    "* job : type of job (categorical: ‘admin.’,’blue-collar’,’entrepreneur’,’housemaid’,’management’,’retired’,’self-employed’,’services’,’student’,’technician’,’unemployed’,’unknown’)\n",
    "* marital : marital status (categorical: ‘divorced’,’married’,’single’,’unknown’; note: ‘divorced’ means divorced or widowed)\n",
    "* education (categorical: ‘basic.4y’,’basic.6y’,’basic.9y’,’high.school’,’illiterate’,’professional.course’,’university.degree’,’unknown’)\n",
    "* default: has credit in default? (categorical: ‘no’,’yes’,’unknown’)\n",
    "* housing: has housing loan? (categorical: ‘no’,’yes’,’unknown’)\n",
    "* loan: has personal loan? (categorical: ‘no’,’yes’,’unknown’)\n",
    "* contact: contact communication type (categorical: ‘cellular’,’telephone’)\n",
    "* month: last contact month of year (categorical: ‘jan’, ‘feb’, ‘mar’, …, ‘nov’, ‘dec’)\n",
    "* day: day of the month\n",
    "* duration: last contact duration, in seconds (numeric). Important note: this attribute highly affects the output target (e.g., if duration=0 then y=’no’). Yet, the duration is not known before a call is performed. Also, after the end of the call y is obviously known. Thus, this input should only be included for benchmark purposes and should be discarded if the intention is to have a realistic predictive model.\n",
    "* campaign: number of contacts performed during this campaign and for this client (numeric, includes last contact)\n",
    "* pdays: number of days that passed by after the client was last contacted from a previous campaign (numeric; 999 means client was not previously contacted)\n",
    "* previous: number of contacts performed before this campaign and for this client (numeric)\n",
    "* poutcome: outcome of the previous marketing campaign (categorical: ‘failure’,’nonexistent’,’success’)\n",
    "* deposit : Yes, No"
   ]
  },
  {
   "cell_type": "markdown",
   "id": "e3ebf4bf",
   "metadata": {},
   "source": [
    "## Let's Get Started!"
   ]
  },
  {
   "cell_type": "markdown",
   "id": "d26f43e2",
   "metadata": {},
   "source": [
    "### Import necessary libraries"
   ]
  },
  {
   "cell_type": "code",
   "execution_count": 1,
   "id": "bac23373",
   "metadata": {},
   "outputs": [],
   "source": [
    "import numpy as np\n",
    "import pandas as pd\n",
    "import matplotlib.pyplot as plt\n",
    "import seaborn as sns"
   ]
  },
  {
   "cell_type": "markdown",
   "id": "4d18957e",
   "metadata": {},
   "source": [
    "### Read 'bank.csv' dataset and store it in a DataFrame Variable"
   ]
  },
  {
   "cell_type": "code",
   "execution_count": 51,
   "id": "2ef5b376",
   "metadata": {},
   "outputs": [],
   "source": [
    "df = pd.read_csv('bank.csv')"
   ]
  },
  {
   "cell_type": "markdown",
   "id": "c8338c65",
   "metadata": {},
   "source": [
    "### View the top 5 rows"
   ]
  },
  {
   "cell_type": "code",
   "execution_count": 5,
   "id": "b3857467",
   "metadata": {},
   "outputs": [
    {
     "data": {
      "text/html": [
       "<div>\n",
       "<style scoped>\n",
       "    .dataframe tbody tr th:only-of-type {\n",
       "        vertical-align: middle;\n",
       "    }\n",
       "\n",
       "    .dataframe tbody tr th {\n",
       "        vertical-align: top;\n",
       "    }\n",
       "\n",
       "    .dataframe thead th {\n",
       "        text-align: right;\n",
       "    }\n",
       "</style>\n",
       "<table border=\"1\" class=\"dataframe\">\n",
       "  <thead>\n",
       "    <tr style=\"text-align: right;\">\n",
       "      <th></th>\n",
       "      <th>age</th>\n",
       "      <th>job</th>\n",
       "      <th>marital</th>\n",
       "      <th>education</th>\n",
       "      <th>default</th>\n",
       "      <th>balance</th>\n",
       "      <th>housing</th>\n",
       "      <th>loan</th>\n",
       "      <th>contact</th>\n",
       "      <th>day</th>\n",
       "      <th>month</th>\n",
       "      <th>duration</th>\n",
       "      <th>campaign</th>\n",
       "      <th>pdays</th>\n",
       "      <th>previous</th>\n",
       "      <th>poutcome</th>\n",
       "      <th>deposit</th>\n",
       "    </tr>\n",
       "  </thead>\n",
       "  <tbody>\n",
       "    <tr>\n",
       "      <th>0</th>\n",
       "      <td>59</td>\n",
       "      <td>admin.</td>\n",
       "      <td>married</td>\n",
       "      <td>secondary</td>\n",
       "      <td>no</td>\n",
       "      <td>2343</td>\n",
       "      <td>yes</td>\n",
       "      <td>no</td>\n",
       "      <td>unknown</td>\n",
       "      <td>5</td>\n",
       "      <td>may</td>\n",
       "      <td>1042</td>\n",
       "      <td>1</td>\n",
       "      <td>-1</td>\n",
       "      <td>0</td>\n",
       "      <td>unknown</td>\n",
       "      <td>yes</td>\n",
       "    </tr>\n",
       "    <tr>\n",
       "      <th>1</th>\n",
       "      <td>56</td>\n",
       "      <td>admin.</td>\n",
       "      <td>married</td>\n",
       "      <td>secondary</td>\n",
       "      <td>no</td>\n",
       "      <td>45</td>\n",
       "      <td>no</td>\n",
       "      <td>no</td>\n",
       "      <td>unknown</td>\n",
       "      <td>5</td>\n",
       "      <td>may</td>\n",
       "      <td>1467</td>\n",
       "      <td>1</td>\n",
       "      <td>-1</td>\n",
       "      <td>0</td>\n",
       "      <td>unknown</td>\n",
       "      <td>yes</td>\n",
       "    </tr>\n",
       "    <tr>\n",
       "      <th>2</th>\n",
       "      <td>41</td>\n",
       "      <td>technician</td>\n",
       "      <td>married</td>\n",
       "      <td>secondary</td>\n",
       "      <td>no</td>\n",
       "      <td>1270</td>\n",
       "      <td>yes</td>\n",
       "      <td>no</td>\n",
       "      <td>unknown</td>\n",
       "      <td>5</td>\n",
       "      <td>may</td>\n",
       "      <td>1389</td>\n",
       "      <td>1</td>\n",
       "      <td>-1</td>\n",
       "      <td>0</td>\n",
       "      <td>unknown</td>\n",
       "      <td>yes</td>\n",
       "    </tr>\n",
       "    <tr>\n",
       "      <th>3</th>\n",
       "      <td>55</td>\n",
       "      <td>services</td>\n",
       "      <td>married</td>\n",
       "      <td>secondary</td>\n",
       "      <td>no</td>\n",
       "      <td>2476</td>\n",
       "      <td>yes</td>\n",
       "      <td>no</td>\n",
       "      <td>unknown</td>\n",
       "      <td>5</td>\n",
       "      <td>may</td>\n",
       "      <td>579</td>\n",
       "      <td>1</td>\n",
       "      <td>-1</td>\n",
       "      <td>0</td>\n",
       "      <td>unknown</td>\n",
       "      <td>yes</td>\n",
       "    </tr>\n",
       "    <tr>\n",
       "      <th>4</th>\n",
       "      <td>54</td>\n",
       "      <td>admin.</td>\n",
       "      <td>married</td>\n",
       "      <td>tertiary</td>\n",
       "      <td>no</td>\n",
       "      <td>184</td>\n",
       "      <td>no</td>\n",
       "      <td>no</td>\n",
       "      <td>unknown</td>\n",
       "      <td>5</td>\n",
       "      <td>may</td>\n",
       "      <td>673</td>\n",
       "      <td>2</td>\n",
       "      <td>-1</td>\n",
       "      <td>0</td>\n",
       "      <td>unknown</td>\n",
       "      <td>yes</td>\n",
       "    </tr>\n",
       "  </tbody>\n",
       "</table>\n",
       "</div>"
      ],
      "text/plain": [
       "   age         job  marital  education default  balance housing loan  contact  \\\n",
       "0   59      admin.  married  secondary      no     2343     yes   no  unknown   \n",
       "1   56      admin.  married  secondary      no       45      no   no  unknown   \n",
       "2   41  technician  married  secondary      no     1270     yes   no  unknown   \n",
       "3   55    services  married  secondary      no     2476     yes   no  unknown   \n",
       "4   54      admin.  married   tertiary      no      184      no   no  unknown   \n",
       "\n",
       "   day month  duration  campaign  pdays  previous poutcome deposit  \n",
       "0    5   may      1042         1     -1         0  unknown     yes  \n",
       "1    5   may      1467         1     -1         0  unknown     yes  \n",
       "2    5   may      1389         1     -1         0  unknown     yes  \n",
       "3    5   may       579         1     -1         0  unknown     yes  \n",
       "4    5   may       673         2     -1         0  unknown     yes  "
      ]
     },
     "execution_count": 5,
     "metadata": {},
     "output_type": "execute_result"
    }
   ],
   "source": [
    "df.head()"
   ]
  },
  {
   "cell_type": "markdown",
   "id": "cca0afae",
   "metadata": {},
   "source": [
    "### View info of the dataset"
   ]
  },
  {
   "cell_type": "code",
   "execution_count": 7,
   "id": "f8190b9e",
   "metadata": {},
   "outputs": [
    {
     "name": "stdout",
     "output_type": "stream",
     "text": [
      "<class 'pandas.core.frame.DataFrame'>\n",
      "RangeIndex: 11162 entries, 0 to 11161\n",
      "Data columns (total 17 columns):\n",
      " #   Column     Non-Null Count  Dtype \n",
      "---  ------     --------------  ----- \n",
      " 0   age        11162 non-null  int64 \n",
      " 1   job        11162 non-null  object\n",
      " 2   marital    11162 non-null  object\n",
      " 3   education  11162 non-null  object\n",
      " 4   default    11162 non-null  object\n",
      " 5   balance    11162 non-null  int64 \n",
      " 6   housing    11162 non-null  object\n",
      " 7   loan       11162 non-null  object\n",
      " 8   contact    11162 non-null  object\n",
      " 9   day        11162 non-null  int64 \n",
      " 10  month      11162 non-null  object\n",
      " 11  duration   11162 non-null  int64 \n",
      " 12  campaign   11162 non-null  int64 \n",
      " 13  pdays      11162 non-null  int64 \n",
      " 14  previous   11162 non-null  int64 \n",
      " 15  poutcome   11162 non-null  object\n",
      " 16  deposit    11162 non-null  object\n",
      "dtypes: int64(7), object(10)\n",
      "memory usage: 1.4+ MB\n"
     ]
    }
   ],
   "source": [
    "df.info()"
   ]
  },
  {
   "cell_type": "markdown",
   "id": "90675867",
   "metadata": {},
   "source": [
    "### View the basic Statistical information about the dataset"
   ]
  },
  {
   "cell_type": "code",
   "execution_count": 9,
   "id": "b55a63a3",
   "metadata": {},
   "outputs": [
    {
     "data": {
      "text/html": [
       "<div>\n",
       "<style scoped>\n",
       "    .dataframe tbody tr th:only-of-type {\n",
       "        vertical-align: middle;\n",
       "    }\n",
       "\n",
       "    .dataframe tbody tr th {\n",
       "        vertical-align: top;\n",
       "    }\n",
       "\n",
       "    .dataframe thead th {\n",
       "        text-align: right;\n",
       "    }\n",
       "</style>\n",
       "<table border=\"1\" class=\"dataframe\">\n",
       "  <thead>\n",
       "    <tr style=\"text-align: right;\">\n",
       "      <th></th>\n",
       "      <th>age</th>\n",
       "      <th>balance</th>\n",
       "      <th>day</th>\n",
       "      <th>duration</th>\n",
       "      <th>campaign</th>\n",
       "      <th>pdays</th>\n",
       "      <th>previous</th>\n",
       "    </tr>\n",
       "  </thead>\n",
       "  <tbody>\n",
       "    <tr>\n",
       "      <th>count</th>\n",
       "      <td>11162.000000</td>\n",
       "      <td>11162.000000</td>\n",
       "      <td>11162.000000</td>\n",
       "      <td>11162.000000</td>\n",
       "      <td>11162.000000</td>\n",
       "      <td>11162.000000</td>\n",
       "      <td>11162.000000</td>\n",
       "    </tr>\n",
       "    <tr>\n",
       "      <th>mean</th>\n",
       "      <td>41.231948</td>\n",
       "      <td>1528.538524</td>\n",
       "      <td>15.658036</td>\n",
       "      <td>371.993818</td>\n",
       "      <td>2.508421</td>\n",
       "      <td>51.330407</td>\n",
       "      <td>0.832557</td>\n",
       "    </tr>\n",
       "    <tr>\n",
       "      <th>std</th>\n",
       "      <td>11.913369</td>\n",
       "      <td>3225.413326</td>\n",
       "      <td>8.420740</td>\n",
       "      <td>347.128386</td>\n",
       "      <td>2.722077</td>\n",
       "      <td>108.758282</td>\n",
       "      <td>2.292007</td>\n",
       "    </tr>\n",
       "    <tr>\n",
       "      <th>min</th>\n",
       "      <td>18.000000</td>\n",
       "      <td>-6847.000000</td>\n",
       "      <td>1.000000</td>\n",
       "      <td>2.000000</td>\n",
       "      <td>1.000000</td>\n",
       "      <td>-1.000000</td>\n",
       "      <td>0.000000</td>\n",
       "    </tr>\n",
       "    <tr>\n",
       "      <th>25%</th>\n",
       "      <td>32.000000</td>\n",
       "      <td>122.000000</td>\n",
       "      <td>8.000000</td>\n",
       "      <td>138.000000</td>\n",
       "      <td>1.000000</td>\n",
       "      <td>-1.000000</td>\n",
       "      <td>0.000000</td>\n",
       "    </tr>\n",
       "    <tr>\n",
       "      <th>50%</th>\n",
       "      <td>39.000000</td>\n",
       "      <td>550.000000</td>\n",
       "      <td>15.000000</td>\n",
       "      <td>255.000000</td>\n",
       "      <td>2.000000</td>\n",
       "      <td>-1.000000</td>\n",
       "      <td>0.000000</td>\n",
       "    </tr>\n",
       "    <tr>\n",
       "      <th>75%</th>\n",
       "      <td>49.000000</td>\n",
       "      <td>1708.000000</td>\n",
       "      <td>22.000000</td>\n",
       "      <td>496.000000</td>\n",
       "      <td>3.000000</td>\n",
       "      <td>20.750000</td>\n",
       "      <td>1.000000</td>\n",
       "    </tr>\n",
       "    <tr>\n",
       "      <th>max</th>\n",
       "      <td>95.000000</td>\n",
       "      <td>81204.000000</td>\n",
       "      <td>31.000000</td>\n",
       "      <td>3881.000000</td>\n",
       "      <td>63.000000</td>\n",
       "      <td>854.000000</td>\n",
       "      <td>58.000000</td>\n",
       "    </tr>\n",
       "  </tbody>\n",
       "</table>\n",
       "</div>"
      ],
      "text/plain": [
       "                age       balance           day      duration      campaign  \\\n",
       "count  11162.000000  11162.000000  11162.000000  11162.000000  11162.000000   \n",
       "mean      41.231948   1528.538524     15.658036    371.993818      2.508421   \n",
       "std       11.913369   3225.413326      8.420740    347.128386      2.722077   \n",
       "min       18.000000  -6847.000000      1.000000      2.000000      1.000000   \n",
       "25%       32.000000    122.000000      8.000000    138.000000      1.000000   \n",
       "50%       39.000000    550.000000     15.000000    255.000000      2.000000   \n",
       "75%       49.000000   1708.000000     22.000000    496.000000      3.000000   \n",
       "max       95.000000  81204.000000     31.000000   3881.000000     63.000000   \n",
       "\n",
       "              pdays      previous  \n",
       "count  11162.000000  11162.000000  \n",
       "mean      51.330407      0.832557  \n",
       "std      108.758282      2.292007  \n",
       "min       -1.000000      0.000000  \n",
       "25%       -1.000000      0.000000  \n",
       "50%       -1.000000      0.000000  \n",
       "75%       20.750000      1.000000  \n",
       "max      854.000000     58.000000  "
      ]
     },
     "execution_count": 9,
     "metadata": {},
     "output_type": "execute_result"
    }
   ],
   "source": [
    "df.describe()"
   ]
  },
  {
   "cell_type": "markdown",
   "id": "89bbdfa6",
   "metadata": {},
   "source": [
    "### Check for null values"
   ]
  },
  {
   "cell_type": "code",
   "execution_count": 11,
   "id": "207307ae",
   "metadata": {},
   "outputs": [
    {
     "data": {
      "text/plain": [
       "age          0\n",
       "job          0\n",
       "marital      0\n",
       "education    0\n",
       "default      0\n",
       "balance      0\n",
       "housing      0\n",
       "loan         0\n",
       "contact      0\n",
       "day          0\n",
       "month        0\n",
       "duration     0\n",
       "campaign     0\n",
       "pdays        0\n",
       "previous     0\n",
       "poutcome     0\n",
       "deposit      0\n",
       "dtype: int64"
      ]
     },
     "execution_count": 11,
     "metadata": {},
     "output_type": "execute_result"
    }
   ],
   "source": [
    "df.isna().sum()"
   ]
  },
  {
   "cell_type": "markdown",
   "id": "a1ecce61",
   "metadata": {},
   "source": [
    "### View unique values in all categorical features"
   ]
  },
  {
   "cell_type": "code",
   "execution_count": 13,
   "id": "7e6b238b",
   "metadata": {},
   "outputs": [
    {
     "name": "stdout",
     "output_type": "stream",
     "text": [
      "Unique values in 'job' are ['admin.' 'technician' 'services' 'management' 'retired' 'blue-collar'\n",
      " 'unemployed' 'entrepreneur' 'housemaid' 'unknown' 'self-employed'\n",
      " 'student']\n",
      "Unique values in 'marital' are ['married' 'single' 'divorced']\n",
      "Unique values in 'education' are ['secondary' 'tertiary' 'primary' 'unknown']\n",
      "Unique values in 'default' are ['no' 'yes']\n",
      "Unique values in 'housing' are ['yes' 'no']\n",
      "Unique values in 'loan' are ['no' 'yes']\n",
      "Unique values in 'contact' are ['unknown' 'cellular' 'telephone']\n",
      "Unique values in 'month' are ['may' 'jun' 'jul' 'aug' 'oct' 'nov' 'dec' 'jan' 'feb' 'mar' 'apr' 'sep']\n",
      "Unique values in 'poutcome' are ['unknown' 'other' 'failure' 'success']\n"
     ]
    }
   ],
   "source": [
    "categorical_columns = ['job', 'marital', 'education', 'default', 'housing', 'loan', 'contact', 'month', 'poutcome']\n",
    "\n",
    "for feature in categorical_columns:\n",
    "    print(f\"Unique values in '{feature}' are {df[feature].unique()}\")"
   ]
  },
  {
   "cell_type": "markdown",
   "id": "e6e9d5ce",
   "metadata": {},
   "source": [
    "### Change categorical features into nominal by OneHotEncoding"
   ]
  },
  {
   "cell_type": "markdown",
   "id": "0e4329b5",
   "metadata": {},
   "source": [
    "#### Note: Make sure to exclude deposit column as it is our target variable"
   ]
  },
  {
   "cell_type": "code",
   "execution_count": 53,
   "id": "db4d1555",
   "metadata": {},
   "outputs": [],
   "source": [
    "pd.set_option('display.max_columns', None) # Used to views columns nontruncated"
   ]
  },
  {
   "cell_type": "code",
   "execution_count": 55,
   "id": "aaf6c4c0-6765-405f-9ac4-690050e83ffa",
   "metadata": {},
   "outputs": [],
   "source": [
    "encoded_df = pd.get_dummies(df.drop(columns = ['deposit']), dtype=int, drop_first = True)"
   ]
  },
  {
   "cell_type": "code",
   "execution_count": 57,
   "id": "b3caf03e-0017-4d63-898f-4d4f2e125e9b",
   "metadata": {},
   "outputs": [],
   "source": [
    "new_df = pd.concat([encoded_df, df['deposit']], axis=1)"
   ]
  },
  {
   "cell_type": "markdown",
   "id": "f06f45c9",
   "metadata": {},
   "source": [
    "### Create a function to change Yes to 1 and No to 0 in deposit "
   ]
  },
  {
   "cell_type": "code",
   "execution_count": 59,
   "id": "d23fe0a6-940a-4384-95a1-646c6b66b876",
   "metadata": {},
   "outputs": [],
   "source": [
    "def yes_or_no(x):\n",
    "    if x == 'yes':\n",
    "        return 1\n",
    "    else:\n",
    "        return 0"
   ]
  },
  {
   "cell_type": "markdown",
   "id": "9b71399d",
   "metadata": {},
   "source": [
    "### Apply the function to deposit column"
   ]
  },
  {
   "cell_type": "code",
   "execution_count": 61,
   "id": "c51651ab",
   "metadata": {},
   "outputs": [],
   "source": [
    "new_df['deposit'] = new_df['deposit'].apply(yes_or_no)"
   ]
  },
  {
   "cell_type": "code",
   "execution_count": 63,
   "id": "db5019c5-8e23-494c-97a1-919f436da9ef",
   "metadata": {},
   "outputs": [
    {
     "data": {
      "text/html": [
       "<div>\n",
       "<style scoped>\n",
       "    .dataframe tbody tr th:only-of-type {\n",
       "        vertical-align: middle;\n",
       "    }\n",
       "\n",
       "    .dataframe tbody tr th {\n",
       "        vertical-align: top;\n",
       "    }\n",
       "\n",
       "    .dataframe thead th {\n",
       "        text-align: right;\n",
       "    }\n",
       "</style>\n",
       "<table border=\"1\" class=\"dataframe\">\n",
       "  <thead>\n",
       "    <tr style=\"text-align: right;\">\n",
       "      <th></th>\n",
       "      <th>age</th>\n",
       "      <th>balance</th>\n",
       "      <th>day</th>\n",
       "      <th>duration</th>\n",
       "      <th>campaign</th>\n",
       "      <th>pdays</th>\n",
       "      <th>previous</th>\n",
       "      <th>job_blue-collar</th>\n",
       "      <th>job_entrepreneur</th>\n",
       "      <th>job_housemaid</th>\n",
       "      <th>job_management</th>\n",
       "      <th>job_retired</th>\n",
       "      <th>job_self-employed</th>\n",
       "      <th>job_services</th>\n",
       "      <th>job_student</th>\n",
       "      <th>job_technician</th>\n",
       "      <th>job_unemployed</th>\n",
       "      <th>job_unknown</th>\n",
       "      <th>marital_married</th>\n",
       "      <th>marital_single</th>\n",
       "      <th>education_secondary</th>\n",
       "      <th>education_tertiary</th>\n",
       "      <th>education_unknown</th>\n",
       "      <th>default_yes</th>\n",
       "      <th>housing_yes</th>\n",
       "      <th>loan_yes</th>\n",
       "      <th>contact_telephone</th>\n",
       "      <th>contact_unknown</th>\n",
       "      <th>month_aug</th>\n",
       "      <th>month_dec</th>\n",
       "      <th>month_feb</th>\n",
       "      <th>month_jan</th>\n",
       "      <th>month_jul</th>\n",
       "      <th>month_jun</th>\n",
       "      <th>month_mar</th>\n",
       "      <th>month_may</th>\n",
       "      <th>month_nov</th>\n",
       "      <th>month_oct</th>\n",
       "      <th>month_sep</th>\n",
       "      <th>poutcome_other</th>\n",
       "      <th>poutcome_success</th>\n",
       "      <th>poutcome_unknown</th>\n",
       "      <th>deposit</th>\n",
       "    </tr>\n",
       "  </thead>\n",
       "  <tbody>\n",
       "    <tr>\n",
       "      <th>0</th>\n",
       "      <td>59</td>\n",
       "      <td>2343</td>\n",
       "      <td>5</td>\n",
       "      <td>1042</td>\n",
       "      <td>1</td>\n",
       "      <td>-1</td>\n",
       "      <td>0</td>\n",
       "      <td>0</td>\n",
       "      <td>0</td>\n",
       "      <td>0</td>\n",
       "      <td>0</td>\n",
       "      <td>0</td>\n",
       "      <td>0</td>\n",
       "      <td>0</td>\n",
       "      <td>0</td>\n",
       "      <td>0</td>\n",
       "      <td>0</td>\n",
       "      <td>0</td>\n",
       "      <td>1</td>\n",
       "      <td>0</td>\n",
       "      <td>1</td>\n",
       "      <td>0</td>\n",
       "      <td>0</td>\n",
       "      <td>0</td>\n",
       "      <td>1</td>\n",
       "      <td>0</td>\n",
       "      <td>0</td>\n",
       "      <td>1</td>\n",
       "      <td>0</td>\n",
       "      <td>0</td>\n",
       "      <td>0</td>\n",
       "      <td>0</td>\n",
       "      <td>0</td>\n",
       "      <td>0</td>\n",
       "      <td>0</td>\n",
       "      <td>1</td>\n",
       "      <td>0</td>\n",
       "      <td>0</td>\n",
       "      <td>0</td>\n",
       "      <td>0</td>\n",
       "      <td>0</td>\n",
       "      <td>1</td>\n",
       "      <td>1</td>\n",
       "    </tr>\n",
       "    <tr>\n",
       "      <th>1</th>\n",
       "      <td>56</td>\n",
       "      <td>45</td>\n",
       "      <td>5</td>\n",
       "      <td>1467</td>\n",
       "      <td>1</td>\n",
       "      <td>-1</td>\n",
       "      <td>0</td>\n",
       "      <td>0</td>\n",
       "      <td>0</td>\n",
       "      <td>0</td>\n",
       "      <td>0</td>\n",
       "      <td>0</td>\n",
       "      <td>0</td>\n",
       "      <td>0</td>\n",
       "      <td>0</td>\n",
       "      <td>0</td>\n",
       "      <td>0</td>\n",
       "      <td>0</td>\n",
       "      <td>1</td>\n",
       "      <td>0</td>\n",
       "      <td>1</td>\n",
       "      <td>0</td>\n",
       "      <td>0</td>\n",
       "      <td>0</td>\n",
       "      <td>0</td>\n",
       "      <td>0</td>\n",
       "      <td>0</td>\n",
       "      <td>1</td>\n",
       "      <td>0</td>\n",
       "      <td>0</td>\n",
       "      <td>0</td>\n",
       "      <td>0</td>\n",
       "      <td>0</td>\n",
       "      <td>0</td>\n",
       "      <td>0</td>\n",
       "      <td>1</td>\n",
       "      <td>0</td>\n",
       "      <td>0</td>\n",
       "      <td>0</td>\n",
       "      <td>0</td>\n",
       "      <td>0</td>\n",
       "      <td>1</td>\n",
       "      <td>1</td>\n",
       "    </tr>\n",
       "    <tr>\n",
       "      <th>2</th>\n",
       "      <td>41</td>\n",
       "      <td>1270</td>\n",
       "      <td>5</td>\n",
       "      <td>1389</td>\n",
       "      <td>1</td>\n",
       "      <td>-1</td>\n",
       "      <td>0</td>\n",
       "      <td>0</td>\n",
       "      <td>0</td>\n",
       "      <td>0</td>\n",
       "      <td>0</td>\n",
       "      <td>0</td>\n",
       "      <td>0</td>\n",
       "      <td>0</td>\n",
       "      <td>0</td>\n",
       "      <td>1</td>\n",
       "      <td>0</td>\n",
       "      <td>0</td>\n",
       "      <td>1</td>\n",
       "      <td>0</td>\n",
       "      <td>1</td>\n",
       "      <td>0</td>\n",
       "      <td>0</td>\n",
       "      <td>0</td>\n",
       "      <td>1</td>\n",
       "      <td>0</td>\n",
       "      <td>0</td>\n",
       "      <td>1</td>\n",
       "      <td>0</td>\n",
       "      <td>0</td>\n",
       "      <td>0</td>\n",
       "      <td>0</td>\n",
       "      <td>0</td>\n",
       "      <td>0</td>\n",
       "      <td>0</td>\n",
       "      <td>1</td>\n",
       "      <td>0</td>\n",
       "      <td>0</td>\n",
       "      <td>0</td>\n",
       "      <td>0</td>\n",
       "      <td>0</td>\n",
       "      <td>1</td>\n",
       "      <td>1</td>\n",
       "    </tr>\n",
       "    <tr>\n",
       "      <th>3</th>\n",
       "      <td>55</td>\n",
       "      <td>2476</td>\n",
       "      <td>5</td>\n",
       "      <td>579</td>\n",
       "      <td>1</td>\n",
       "      <td>-1</td>\n",
       "      <td>0</td>\n",
       "      <td>0</td>\n",
       "      <td>0</td>\n",
       "      <td>0</td>\n",
       "      <td>0</td>\n",
       "      <td>0</td>\n",
       "      <td>0</td>\n",
       "      <td>1</td>\n",
       "      <td>0</td>\n",
       "      <td>0</td>\n",
       "      <td>0</td>\n",
       "      <td>0</td>\n",
       "      <td>1</td>\n",
       "      <td>0</td>\n",
       "      <td>1</td>\n",
       "      <td>0</td>\n",
       "      <td>0</td>\n",
       "      <td>0</td>\n",
       "      <td>1</td>\n",
       "      <td>0</td>\n",
       "      <td>0</td>\n",
       "      <td>1</td>\n",
       "      <td>0</td>\n",
       "      <td>0</td>\n",
       "      <td>0</td>\n",
       "      <td>0</td>\n",
       "      <td>0</td>\n",
       "      <td>0</td>\n",
       "      <td>0</td>\n",
       "      <td>1</td>\n",
       "      <td>0</td>\n",
       "      <td>0</td>\n",
       "      <td>0</td>\n",
       "      <td>0</td>\n",
       "      <td>0</td>\n",
       "      <td>1</td>\n",
       "      <td>1</td>\n",
       "    </tr>\n",
       "    <tr>\n",
       "      <th>4</th>\n",
       "      <td>54</td>\n",
       "      <td>184</td>\n",
       "      <td>5</td>\n",
       "      <td>673</td>\n",
       "      <td>2</td>\n",
       "      <td>-1</td>\n",
       "      <td>0</td>\n",
       "      <td>0</td>\n",
       "      <td>0</td>\n",
       "      <td>0</td>\n",
       "      <td>0</td>\n",
       "      <td>0</td>\n",
       "      <td>0</td>\n",
       "      <td>0</td>\n",
       "      <td>0</td>\n",
       "      <td>0</td>\n",
       "      <td>0</td>\n",
       "      <td>0</td>\n",
       "      <td>1</td>\n",
       "      <td>0</td>\n",
       "      <td>0</td>\n",
       "      <td>1</td>\n",
       "      <td>0</td>\n",
       "      <td>0</td>\n",
       "      <td>0</td>\n",
       "      <td>0</td>\n",
       "      <td>0</td>\n",
       "      <td>1</td>\n",
       "      <td>0</td>\n",
       "      <td>0</td>\n",
       "      <td>0</td>\n",
       "      <td>0</td>\n",
       "      <td>0</td>\n",
       "      <td>0</td>\n",
       "      <td>0</td>\n",
       "      <td>1</td>\n",
       "      <td>0</td>\n",
       "      <td>0</td>\n",
       "      <td>0</td>\n",
       "      <td>0</td>\n",
       "      <td>0</td>\n",
       "      <td>1</td>\n",
       "      <td>1</td>\n",
       "    </tr>\n",
       "  </tbody>\n",
       "</table>\n",
       "</div>"
      ],
      "text/plain": [
       "   age  balance  day  duration  campaign  pdays  previous  job_blue-collar  \\\n",
       "0   59     2343    5      1042         1     -1         0                0   \n",
       "1   56       45    5      1467         1     -1         0                0   \n",
       "2   41     1270    5      1389         1     -1         0                0   \n",
       "3   55     2476    5       579         1     -1         0                0   \n",
       "4   54      184    5       673         2     -1         0                0   \n",
       "\n",
       "   job_entrepreneur  job_housemaid  job_management  job_retired  \\\n",
       "0                 0              0               0            0   \n",
       "1                 0              0               0            0   \n",
       "2                 0              0               0            0   \n",
       "3                 0              0               0            0   \n",
       "4                 0              0               0            0   \n",
       "\n",
       "   job_self-employed  job_services  job_student  job_technician  \\\n",
       "0                  0             0            0               0   \n",
       "1                  0             0            0               0   \n",
       "2                  0             0            0               1   \n",
       "3                  0             1            0               0   \n",
       "4                  0             0            0               0   \n",
       "\n",
       "   job_unemployed  job_unknown  marital_married  marital_single  \\\n",
       "0               0            0                1               0   \n",
       "1               0            0                1               0   \n",
       "2               0            0                1               0   \n",
       "3               0            0                1               0   \n",
       "4               0            0                1               0   \n",
       "\n",
       "   education_secondary  education_tertiary  education_unknown  default_yes  \\\n",
       "0                    1                   0                  0            0   \n",
       "1                    1                   0                  0            0   \n",
       "2                    1                   0                  0            0   \n",
       "3                    1                   0                  0            0   \n",
       "4                    0                   1                  0            0   \n",
       "\n",
       "   housing_yes  loan_yes  contact_telephone  contact_unknown  month_aug  \\\n",
       "0            1         0                  0                1          0   \n",
       "1            0         0                  0                1          0   \n",
       "2            1         0                  0                1          0   \n",
       "3            1         0                  0                1          0   \n",
       "4            0         0                  0                1          0   \n",
       "\n",
       "   month_dec  month_feb  month_jan  month_jul  month_jun  month_mar  \\\n",
       "0          0          0          0          0          0          0   \n",
       "1          0          0          0          0          0          0   \n",
       "2          0          0          0          0          0          0   \n",
       "3          0          0          0          0          0          0   \n",
       "4          0          0          0          0          0          0   \n",
       "\n",
       "   month_may  month_nov  month_oct  month_sep  poutcome_other  \\\n",
       "0          1          0          0          0               0   \n",
       "1          1          0          0          0               0   \n",
       "2          1          0          0          0               0   \n",
       "3          1          0          0          0               0   \n",
       "4          1          0          0          0               0   \n",
       "\n",
       "   poutcome_success  poutcome_unknown  deposit  \n",
       "0                 0                 1        1  \n",
       "1                 0                 1        1  \n",
       "2                 0                 1        1  \n",
       "3                 0                 1        1  \n",
       "4                 0                 1        1  "
      ]
     },
     "execution_count": 63,
     "metadata": {},
     "output_type": "execute_result"
    }
   ],
   "source": [
    "new_df.head()"
   ]
  },
  {
   "cell_type": "markdown",
   "id": "1c6ffb38",
   "metadata": {},
   "source": [
    "## <span style = \"color: orange\"> Visualization </span>"
   ]
  },
  {
   "cell_type": "markdown",
   "id": "88455fb6",
   "metadata": {},
   "source": [
    "### Plot a displot of age"
   ]
  },
  {
   "cell_type": "code",
   "execution_count": 183,
   "id": "d5fe6bd7-c1a1-41e3-aec9-9247d39ba225",
   "metadata": {},
   "outputs": [
    {
     "data": {
      "image/png": "[encoded data removed]",
      "text/plain": [
       "<Figure size 500x500 with 1 Axes>"
      ]
     },
     "metadata": {},
     "output_type": "display_data"
    }
   ],
   "source": [
    "sns.displot(df['age'])\n",
    "plt.show()"
   ]
  },
  {
   "cell_type": "markdown",
   "id": "7a502cee",
   "metadata": {},
   "source": [
    "### Make a visualization of number of deposits per month"
   ]
  },
  {
   "cell_type": "code",
   "execution_count": 67,
   "id": "b4ba492e-5459-4f5b-a74c-086d6729d035",
   "metadata": {},
   "outputs": [],
   "source": [
    "deposits_per_month = df[df['deposit'] == 1].groupby('month').size()"
   ]
  },
  {
   "cell_type": "code",
   "execution_count": 173,
   "id": "8fc6a1f1-541c-4fdd-9643-68a0b7c6b4cb",
   "metadata": {},
   "outputs": [
    {
     "name": "stderr",
     "output_type": "stream",
     "text": [
      "C:\\Users\\user\\AppData\\Local\\Temp\\ipykernel_6208\\212981990.py:1: FutureWarning: \n",
      "\n",
      "Passing `palette` without assigning `hue` is deprecated and will be removed in v0.14.0. Assign the `x` variable to `hue` and set `legend=False` for the same effect.\n",
      "\n",
      "  sns.countplot(df, x='month', palette='rainbow')\n"
     ]
    },
    {
     "data": {
      "image/png": "[encoded data removed]",
      "text/plain": [
       "<Figure size 640x480 with 1 Axes>"
      ]
     },
     "metadata": {},
     "output_type": "display_data"
    }
   ],
   "source": [
    "sns.countplot(df, x='month', palette='rainbow')\n",
    "plt.show()"
   ]
  },
  {
   "cell_type": "markdown",
   "id": "3c54f3cf",
   "metadata": {},
   "source": [
    "### Plot a countplot of 'housing' to visualize number of customers having housing loan"
   ]
  },
  {
   "cell_type": "code",
   "execution_count": 175,
   "id": "4baf3bf7-2bf1-4f47-8def-8eff33996119",
   "metadata": {},
   "outputs": [
    {
     "data": {
      "image/png": "[encoded data removed]",
      "text/plain": [
       "<Figure size 640x480 with 1 Axes>"
      ]
     },
     "metadata": {},
     "output_type": "display_data"
    }
   ],
   "source": [
    "sns.countplot(df, x='housing')\n",
    "plt.show()"
   ]
  },
  {
   "cell_type": "markdown",
   "id": "989672e2",
   "metadata": {},
   "source": [
    "### Plot a countplot to view the education of customers"
   ]
  },
  {
   "cell_type": "code",
   "execution_count": 177,
   "id": "44286d0a-7d1d-4e8f-adb4-777f0d8d6c38",
   "metadata": {},
   "outputs": [
    {
     "name": "stderr",
     "output_type": "stream",
     "text": [
      "C:\\Users\\user\\AppData\\Local\\Temp\\ipykernel_6208\\1380748079.py:1: FutureWarning: \n",
      "\n",
      "Passing `palette` without assigning `hue` is deprecated and will be removed in v0.14.0. Assign the `x` variable to `hue` and set `legend=False` for the same effect.\n",
      "\n",
      "  sns.countplot(df, x='education', palette='rainbow')\n"
     ]
    },
    {
     "data": {
      "image/png": "[encoded data removed]",
      "text/plain": [
       "<Figure size 640x480 with 1 Axes>"
      ]
     },
     "metadata": {},
     "output_type": "display_data"
    }
   ],
   "source": [
    "sns.countplot(df, x='education', palette='rainbow')\n",
    "plt.show()"
   ]
  },
  {
   "cell_type": "markdown",
   "id": "6224af73",
   "metadata": {},
   "source": [
    "### Create a plot to visualize the count of jobs"
   ]
  },
  {
   "cell_type": "code",
   "execution_count": 179,
   "id": "63c03324-87d6-488c-81ae-6b8ee1689abb",
   "metadata": {},
   "outputs": [
    {
     "name": "stderr",
     "output_type": "stream",
     "text": [
      "C:\\Users\\user\\AppData\\Local\\Temp\\ipykernel_6208\\3558249768.py:2: FutureWarning: \n",
      "\n",
      "Passing `palette` without assigning `hue` is deprecated and will be removed in v0.14.0. Assign the `x` variable to `hue` and set `legend=False` for the same effect.\n",
      "\n",
      "  sns.countplot(df, x='job', palette='rainbow')\n"
     ]
    },
    {
     "data": {
      "image/png": "[encoded data removed]",
      "text/plain": [
       "<Figure size 1400x400 with 1 Axes>"
      ]
     },
     "metadata": {},
     "output_type": "display_data"
    }
   ],
   "source": [
    "plt.figure(figsize=(14,4))\n",
    "sns.countplot(df, x='job', palette='rainbow')\n",
    "plt.legend\n",
    "plt.show()"
   ]
  },
  {
   "cell_type": "markdown",
   "id": "9d6bde5e",
   "metadata": {},
   "source": [
    "### Plot a heatmap to view the correlation between features"
   ]
  },
  {
   "cell_type": "code",
   "execution_count": 181,
   "id": "8fb59535-2f9b-45b9-b182-0912feb72364",
   "metadata": {},
   "outputs": [
    {
     "data": {
      "image/png": "[encoded data removed]",
      "text/plain": [
       "<Figure size 640x480 with 2 Axes>"
      ]
     },
     "metadata": {},
     "output_type": "display_data"
    }
   ],
   "source": [
    "sns.heatmap(new_df.corr())\n",
    "plt.show()"
   ]
  },
  {
   "cell_type": "markdown",
   "id": "aa371e45",
   "metadata": {},
   "source": [
    "### Split the dataset into input and target variables"
   ]
  },
  {
   "cell_type": "code",
   "execution_count": 109,
   "id": "7b3c9b42-fb9b-4e3d-982f-89216ff1d5ff",
   "metadata": {},
   "outputs": [],
   "source": [
    "X = new_df.drop('deposit', axis=1)"
   ]
  },
  {
   "cell_type": "code",
   "execution_count": 113,
   "id": "9fd39264",
   "metadata": {},
   "outputs": [],
   "source": [
    "y = new_df['deposit']"
   ]
  },
  {
   "cell_type": "markdown",
   "id": "94073333",
   "metadata": {},
   "source": [
    "### Standardise our dataset using StandardScaler"
   ]
  },
  {
   "cell_type": "code",
   "execution_count": 115,
   "id": "1121151c",
   "metadata": {},
   "outputs": [],
   "source": [
    "from sklearn.preprocessing import StandardScaler"
   ]
  },
  {
   "cell_type": "code",
   "execution_count": 117,
   "id": "8897f71c",
   "metadata": {},
   "outputs": [],
   "source": [
    "scaler = StandardScaler()"
   ]
  },
  {
   "cell_type": "code",
   "execution_count": 119,
   "id": "e0572f44-4558-47c1-9901-7f162e5689ba",
   "metadata": {},
   "outputs": [],
   "source": [
    "xcolumns = X.columns"
   ]
  },
  {
   "cell_type": "code",
   "execution_count": 121,
   "id": "d1039e97",
   "metadata": {},
   "outputs": [],
   "source": [
    "X = scaler.fit_transform(X)"
   ]
  },
  {
   "cell_type": "code",
   "execution_count": 125,
   "id": "65a45f40-8f65-428a-99c1-acdafc9afe00",
   "metadata": {},
   "outputs": [],
   "source": [
    "X = pd.DataFrame(X, columns = xcolumns)"
   ]
  },
  {
   "cell_type": "code",
   "execution_count": 127,
   "id": "b502e2fe-ffb7-4d9c-bbc2-70a0707d5702",
   "metadata": {},
   "outputs": [
    {
     "data": {
      "text/html": [
       "<div>\n",
       "<style scoped>\n",
       "    .dataframe tbody tr th:only-of-type {\n",
       "        vertical-align: middle;\n",
       "    }\n",
       "\n",
       "    .dataframe tbody tr th {\n",
       "        vertical-align: top;\n",
       "    }\n",
       "\n",
       "    .dataframe thead th {\n",
       "        text-align: right;\n",
       "    }\n",
       "</style>\n",
       "<table border=\"1\" class=\"dataframe\">\n",
       "  <thead>\n",
       "    <tr style=\"text-align: right;\">\n",
       "      <th></th>\n",
       "      <th>age</th>\n",
       "      <th>balance</th>\n",
       "      <th>day</th>\n",
       "      <th>duration</th>\n",
       "      <th>campaign</th>\n",
       "      <th>pdays</th>\n",
       "      <th>previous</th>\n",
       "      <th>job_blue-collar</th>\n",
       "      <th>job_entrepreneur</th>\n",
       "      <th>job_housemaid</th>\n",
       "      <th>job_management</th>\n",
       "      <th>job_retired</th>\n",
       "      <th>job_self-employed</th>\n",
       "      <th>job_services</th>\n",
       "      <th>job_student</th>\n",
       "      <th>job_technician</th>\n",
       "      <th>job_unemployed</th>\n",
       "      <th>job_unknown</th>\n",
       "      <th>marital_married</th>\n",
       "      <th>marital_single</th>\n",
       "      <th>education_secondary</th>\n",
       "      <th>education_tertiary</th>\n",
       "      <th>education_unknown</th>\n",
       "      <th>default_yes</th>\n",
       "      <th>housing_yes</th>\n",
       "      <th>loan_yes</th>\n",
       "      <th>contact_telephone</th>\n",
       "      <th>contact_unknown</th>\n",
       "      <th>month_aug</th>\n",
       "      <th>month_dec</th>\n",
       "      <th>month_feb</th>\n",
       "      <th>month_jan</th>\n",
       "      <th>month_jul</th>\n",
       "      <th>month_jun</th>\n",
       "      <th>month_mar</th>\n",
       "      <th>month_may</th>\n",
       "      <th>month_nov</th>\n",
       "      <th>month_oct</th>\n",
       "      <th>month_sep</th>\n",
       "      <th>poutcome_other</th>\n",
       "      <th>poutcome_success</th>\n",
       "      <th>poutcome_unknown</th>\n",
       "    </tr>\n",
       "  </thead>\n",
       "  <tbody>\n",
       "    <tr>\n",
       "      <th>0</th>\n",
       "      <td>1.491505</td>\n",
       "      <td>0.252525</td>\n",
       "      <td>-1.265746</td>\n",
       "      <td>1.930226</td>\n",
       "      <td>-0.554168</td>\n",
       "      <td>-0.481184</td>\n",
       "      <td>-0.36326</td>\n",
       "      <td>-0.459229</td>\n",
       "      <td>-0.173997</td>\n",
       "      <td>-0.158636</td>\n",
       "      <td>-0.546362</td>\n",
       "      <td>-0.273721</td>\n",
       "      <td>-0.194036</td>\n",
       "      <td>-0.300242</td>\n",
       "      <td>-0.182557</td>\n",
       "      <td>-0.441818</td>\n",
       "      <td>-0.18177</td>\n",
       "      <td>-0.079441</td>\n",
       "      <td>0.870355</td>\n",
       "      <td>-0.678403</td>\n",
       "      <td>1.018994</td>\n",
       "      <td>-0.702598</td>\n",
       "      <td>-0.215873</td>\n",
       "      <td>-0.123617</td>\n",
       "      <td>1.055280</td>\n",
       "      <td>-0.387923</td>\n",
       "      <td>-0.272963</td>\n",
       "      <td>1.938527</td>\n",
       "      <td>-0.396892</td>\n",
       "      <td>-0.099764</td>\n",
       "      <td>-0.273342</td>\n",
       "      <td>-0.178322</td>\n",
       "      <td>-0.396136</td>\n",
       "      <td>-0.350625</td>\n",
       "      <td>-0.159228</td>\n",
       "      <td>1.718298</td>\n",
       "      <td>-0.303775</td>\n",
       "      <td>-0.190781</td>\n",
       "      <td>-0.171522</td>\n",
       "      <td>-0.224814</td>\n",
       "      <td>-0.325782</td>\n",
       "      <td>0.583626</td>\n",
       "    </tr>\n",
       "    <tr>\n",
       "      <th>1</th>\n",
       "      <td>1.239676</td>\n",
       "      <td>-0.459974</td>\n",
       "      <td>-1.265746</td>\n",
       "      <td>3.154612</td>\n",
       "      <td>-0.554168</td>\n",
       "      <td>-0.481184</td>\n",
       "      <td>-0.36326</td>\n",
       "      <td>-0.459229</td>\n",
       "      <td>-0.173997</td>\n",
       "      <td>-0.158636</td>\n",
       "      <td>-0.546362</td>\n",
       "      <td>-0.273721</td>\n",
       "      <td>-0.194036</td>\n",
       "      <td>-0.300242</td>\n",
       "      <td>-0.182557</td>\n",
       "      <td>-0.441818</td>\n",
       "      <td>-0.18177</td>\n",
       "      <td>-0.079441</td>\n",
       "      <td>0.870355</td>\n",
       "      <td>-0.678403</td>\n",
       "      <td>1.018994</td>\n",
       "      <td>-0.702598</td>\n",
       "      <td>-0.215873</td>\n",
       "      <td>-0.123617</td>\n",
       "      <td>-0.947616</td>\n",
       "      <td>-0.387923</td>\n",
       "      <td>-0.272963</td>\n",
       "      <td>1.938527</td>\n",
       "      <td>-0.396892</td>\n",
       "      <td>-0.099764</td>\n",
       "      <td>-0.273342</td>\n",
       "      <td>-0.178322</td>\n",
       "      <td>-0.396136</td>\n",
       "      <td>-0.350625</td>\n",
       "      <td>-0.159228</td>\n",
       "      <td>1.718298</td>\n",
       "      <td>-0.303775</td>\n",
       "      <td>-0.190781</td>\n",
       "      <td>-0.171522</td>\n",
       "      <td>-0.224814</td>\n",
       "      <td>-0.325782</td>\n",
       "      <td>0.583626</td>\n",
       "    </tr>\n",
       "    <tr>\n",
       "      <th>2</th>\n",
       "      <td>-0.019470</td>\n",
       "      <td>-0.080160</td>\n",
       "      <td>-1.265746</td>\n",
       "      <td>2.929901</td>\n",
       "      <td>-0.554168</td>\n",
       "      <td>-0.481184</td>\n",
       "      <td>-0.36326</td>\n",
       "      <td>-0.459229</td>\n",
       "      <td>-0.173997</td>\n",
       "      <td>-0.158636</td>\n",
       "      <td>-0.546362</td>\n",
       "      <td>-0.273721</td>\n",
       "      <td>-0.194036</td>\n",
       "      <td>-0.300242</td>\n",
       "      <td>-0.182557</td>\n",
       "      <td>2.263377</td>\n",
       "      <td>-0.18177</td>\n",
       "      <td>-0.079441</td>\n",
       "      <td>0.870355</td>\n",
       "      <td>-0.678403</td>\n",
       "      <td>1.018994</td>\n",
       "      <td>-0.702598</td>\n",
       "      <td>-0.215873</td>\n",
       "      <td>-0.123617</td>\n",
       "      <td>1.055280</td>\n",
       "      <td>-0.387923</td>\n",
       "      <td>-0.272963</td>\n",
       "      <td>1.938527</td>\n",
       "      <td>-0.396892</td>\n",
       "      <td>-0.099764</td>\n",
       "      <td>-0.273342</td>\n",
       "      <td>-0.178322</td>\n",
       "      <td>-0.396136</td>\n",
       "      <td>-0.350625</td>\n",
       "      <td>-0.159228</td>\n",
       "      <td>1.718298</td>\n",
       "      <td>-0.303775</td>\n",
       "      <td>-0.190781</td>\n",
       "      <td>-0.171522</td>\n",
       "      <td>-0.224814</td>\n",
       "      <td>-0.325782</td>\n",
       "      <td>0.583626</td>\n",
       "    </tr>\n",
       "    <tr>\n",
       "      <th>3</th>\n",
       "      <td>1.155733</td>\n",
       "      <td>0.293762</td>\n",
       "      <td>-1.265746</td>\n",
       "      <td>0.596366</td>\n",
       "      <td>-0.554168</td>\n",
       "      <td>-0.481184</td>\n",
       "      <td>-0.36326</td>\n",
       "      <td>-0.459229</td>\n",
       "      <td>-0.173997</td>\n",
       "      <td>-0.158636</td>\n",
       "      <td>-0.546362</td>\n",
       "      <td>-0.273721</td>\n",
       "      <td>-0.194036</td>\n",
       "      <td>3.330642</td>\n",
       "      <td>-0.182557</td>\n",
       "      <td>-0.441818</td>\n",
       "      <td>-0.18177</td>\n",
       "      <td>-0.079441</td>\n",
       "      <td>0.870355</td>\n",
       "      <td>-0.678403</td>\n",
       "      <td>1.018994</td>\n",
       "      <td>-0.702598</td>\n",
       "      <td>-0.215873</td>\n",
       "      <td>-0.123617</td>\n",
       "      <td>1.055280</td>\n",
       "      <td>-0.387923</td>\n",
       "      <td>-0.272963</td>\n",
       "      <td>1.938527</td>\n",
       "      <td>-0.396892</td>\n",
       "      <td>-0.099764</td>\n",
       "      <td>-0.273342</td>\n",
       "      <td>-0.178322</td>\n",
       "      <td>-0.396136</td>\n",
       "      <td>-0.350625</td>\n",
       "      <td>-0.159228</td>\n",
       "      <td>1.718298</td>\n",
       "      <td>-0.303775</td>\n",
       "      <td>-0.190781</td>\n",
       "      <td>-0.171522</td>\n",
       "      <td>-0.224814</td>\n",
       "      <td>-0.325782</td>\n",
       "      <td>0.583626</td>\n",
       "    </tr>\n",
       "    <tr>\n",
       "      <th>4</th>\n",
       "      <td>1.071790</td>\n",
       "      <td>-0.416876</td>\n",
       "      <td>-1.265746</td>\n",
       "      <td>0.867171</td>\n",
       "      <td>-0.186785</td>\n",
       "      <td>-0.481184</td>\n",
       "      <td>-0.36326</td>\n",
       "      <td>-0.459229</td>\n",
       "      <td>-0.173997</td>\n",
       "      <td>-0.158636</td>\n",
       "      <td>-0.546362</td>\n",
       "      <td>-0.273721</td>\n",
       "      <td>-0.194036</td>\n",
       "      <td>-0.300242</td>\n",
       "      <td>-0.182557</td>\n",
       "      <td>-0.441818</td>\n",
       "      <td>-0.18177</td>\n",
       "      <td>-0.079441</td>\n",
       "      <td>0.870355</td>\n",
       "      <td>-0.678403</td>\n",
       "      <td>-0.981360</td>\n",
       "      <td>1.423289</td>\n",
       "      <td>-0.215873</td>\n",
       "      <td>-0.123617</td>\n",
       "      <td>-0.947616</td>\n",
       "      <td>-0.387923</td>\n",
       "      <td>-0.272963</td>\n",
       "      <td>1.938527</td>\n",
       "      <td>-0.396892</td>\n",
       "      <td>-0.099764</td>\n",
       "      <td>-0.273342</td>\n",
       "      <td>-0.178322</td>\n",
       "      <td>-0.396136</td>\n",
       "      <td>-0.350625</td>\n",
       "      <td>-0.159228</td>\n",
       "      <td>1.718298</td>\n",
       "      <td>-0.303775</td>\n",
       "      <td>-0.190781</td>\n",
       "      <td>-0.171522</td>\n",
       "      <td>-0.224814</td>\n",
       "      <td>-0.325782</td>\n",
       "      <td>0.583626</td>\n",
       "    </tr>\n",
       "  </tbody>\n",
       "</table>\n",
       "</div>"
      ],
      "text/plain": [
       "        age   balance       day  duration  campaign     pdays  previous  \\\n",
       "0  1.491505  0.252525 -1.265746  1.930226 -0.554168 -0.481184  -0.36326   \n",
       "1  1.239676 -0.459974 -1.265746  3.154612 -0.554168 -0.481184  -0.36326   \n",
       "2 -0.019470 -0.080160 -1.265746  2.929901 -0.554168 -0.481184  -0.36326   \n",
       "3  1.155733  0.293762 -1.265746  0.596366 -0.554168 -0.481184  -0.36326   \n",
       "4  1.071790 -0.416876 -1.265746  0.867171 -0.186785 -0.481184  -0.36326   \n",
       "\n",
       "   job_blue-collar  job_entrepreneur  job_housemaid  job_management  \\\n",
       "0        -0.459229         -0.173997      -0.158636       -0.546362   \n",
       "1        -0.459229         -0.173997      -0.158636       -0.546362   \n",
       "2        -0.459229         -0.173997      -0.158636       -0.546362   \n",
       "3        -0.459229         -0.173997      -0.158636       -0.546362   \n",
       "4        -0.459229         -0.173997      -0.158636       -0.546362   \n",
       "\n",
       "   job_retired  job_self-employed  job_services  job_student  job_technician  \\\n",
       "0    -0.273721          -0.194036     -0.300242    -0.182557       -0.441818   \n",
       "1    -0.273721          -0.194036     -0.300242    -0.182557       -0.441818   \n",
       "2    -0.273721          -0.194036     -0.300242    -0.182557        2.263377   \n",
       "3    -0.273721          -0.194036      3.330642    -0.182557       -0.441818   \n",
       "4    -0.273721          -0.194036     -0.300242    -0.182557       -0.441818   \n",
       "\n",
       "   job_unemployed  job_unknown  marital_married  marital_single  \\\n",
       "0        -0.18177    -0.079441         0.870355       -0.678403   \n",
       "1        -0.18177    -0.079441         0.870355       -0.678403   \n",
       "2        -0.18177    -0.079441         0.870355       -0.678403   \n",
       "3        -0.18177    -0.079441         0.870355       -0.678403   \n",
       "4        -0.18177    -0.079441         0.870355       -0.678403   \n",
       "\n",
       "   education_secondary  education_tertiary  education_unknown  default_yes  \\\n",
       "0             1.018994           -0.702598          -0.215873    -0.123617   \n",
       "1             1.018994           -0.702598          -0.215873    -0.123617   \n",
       "2             1.018994           -0.702598          -0.215873    -0.123617   \n",
       "3             1.018994           -0.702598          -0.215873    -0.123617   \n",
       "4            -0.981360            1.423289          -0.215873    -0.123617   \n",
       "\n",
       "   housing_yes  loan_yes  contact_telephone  contact_unknown  month_aug  \\\n",
       "0     1.055280 -0.387923          -0.272963         1.938527  -0.396892   \n",
       "1    -0.947616 -0.387923          -0.272963         1.938527  -0.396892   \n",
       "2     1.055280 -0.387923          -0.272963         1.938527  -0.396892   \n",
       "3     1.055280 -0.387923          -0.272963         1.938527  -0.396892   \n",
       "4    -0.947616 -0.387923          -0.272963         1.938527  -0.396892   \n",
       "\n",
       "   month_dec  month_feb  month_jan  month_jul  month_jun  month_mar  \\\n",
       "0  -0.099764  -0.273342  -0.178322  -0.396136  -0.350625  -0.159228   \n",
       "1  -0.099764  -0.273342  -0.178322  -0.396136  -0.350625  -0.159228   \n",
       "2  -0.099764  -0.273342  -0.178322  -0.396136  -0.350625  -0.159228   \n",
       "3  -0.099764  -0.273342  -0.178322  -0.396136  -0.350625  -0.159228   \n",
       "4  -0.099764  -0.273342  -0.178322  -0.396136  -0.350625  -0.159228   \n",
       "\n",
       "   month_may  month_nov  month_oct  month_sep  poutcome_other  \\\n",
       "0   1.718298  -0.303775  -0.190781  -0.171522       -0.224814   \n",
       "1   1.718298  -0.303775  -0.190781  -0.171522       -0.224814   \n",
       "2   1.718298  -0.303775  -0.190781  -0.171522       -0.224814   \n",
       "3   1.718298  -0.303775  -0.190781  -0.171522       -0.224814   \n",
       "4   1.718298  -0.303775  -0.190781  -0.171522       -0.224814   \n",
       "\n",
       "   poutcome_success  poutcome_unknown  \n",
       "0         -0.325782          0.583626  \n",
       "1         -0.325782          0.583626  \n",
       "2         -0.325782          0.583626  \n",
       "3         -0.325782          0.583626  \n",
       "4         -0.325782          0.583626  "
      ]
     },
     "execution_count": 127,
     "metadata": {},
     "output_type": "execute_result"
    }
   ],
   "source": [
    "X.head()"
   ]
  },
  {
   "cell_type": "markdown",
   "id": "d7ba7d2e",
   "metadata": {},
   "source": [
    "### Split dataset into training and testing set"
   ]
  },
  {
   "cell_type": "code",
   "execution_count": 129,
   "id": "f8c3b630",
   "metadata": {},
   "outputs": [],
   "source": [
    "from sklearn.model_selection import train_test_split"
   ]
  },
  {
   "cell_type": "code",
   "execution_count": 137,
   "id": "20968d4b",
   "metadata": {},
   "outputs": [],
   "source": [
    "X_train, X_test, y_train, y_test = train_test_split(X,y, test_size = 0.3, random_state = 100)"
   ]
  },
  {
   "cell_type": "markdown",
   "id": "13eca657",
   "metadata": {},
   "source": [
    "### Check the shape of X_train and X_test"
   ]
  },
  {
   "cell_type": "code",
   "execution_count": 139,
   "id": "89927cf3-b251-4347-9bae-3aa830ffffbe",
   "metadata": {},
   "outputs": [
    {
     "data": {
      "text/plain": [
       "(7813, 42)"
      ]
     },
     "execution_count": 139,
     "metadata": {},
     "output_type": "execute_result"
    }
   ],
   "source": [
    "X_train.shape"
   ]
  },
  {
   "cell_type": "code",
   "execution_count": 141,
   "id": "213cba15-2358-4191-aa12-f2778a3abf8a",
   "metadata": {},
   "outputs": [
    {
     "data": {
      "text/plain": [
       "(3349, 42)"
      ]
     },
     "execution_count": 141,
     "metadata": {},
     "output_type": "execute_result"
    }
   ],
   "source": [
    "X_test.shape"
   ]
  },
  {
   "cell_type": "markdown",
   "id": "6ccb70d0",
   "metadata": {},
   "source": [
    "### Create Decision Tree model and train it"
   ]
  },
  {
   "cell_type": "code",
   "execution_count": 143,
   "id": "1a339266",
   "metadata": {},
   "outputs": [],
   "source": [
    "from sklearn.tree import DecisionTreeClassifier"
   ]
  },
  {
   "cell_type": "code",
   "execution_count": 145,
   "id": "4a13031c",
   "metadata": {},
   "outputs": [],
   "source": [
    "model = DecisionTreeClassifier()"
   ]
  },
  {
   "cell_type": "code",
   "execution_count": 147,
   "id": "c696f423",
   "metadata": {},
   "outputs": [
    {
     "data": {
      "text/html": [
       "<style>#sk-container-id-1 {\n",
       "  /* Definition of color scheme common for light and dark mode */\n",
       "  --sklearn-color-text: black;\n",
       "  --sklearn-color-line: gray;\n",
       "  /* Definition of color scheme for unfitted estimators */\n",
       "  --sklearn-color-unfitted-level-0: #fff5e6;\n",
       "  --sklearn-color-unfitted-level-1: #f6e4d2;\n",
       "  --sklearn-color-unfitted-level-2: #ffe0b3;\n",
       "  --sklearn-color-unfitted-level-3: chocolate;\n",
       "  /* Definition of color scheme for fitted estimators */\n",
       "  --sklearn-color-fitted-level-0: #f0f8ff;\n",
       "  --sklearn-color-fitted-level-1: #d4ebff;\n",
       "  --sklearn-color-fitted-level-2: #b3dbfd;\n",
       "  --sklearn-color-fitted-level-3: cornflowerblue;\n",
       "\n",
       "  /* Specific color for light theme */\n",
       "  --sklearn-color-text-on-default-background: var(--sg-text-color, var(--theme-code-foreground, var(--jp-content-font-color1, black)));\n",
       "  --sklearn-color-background: var(--sg-background-color, var(--theme-background, var(--jp-layout-color0, white)));\n",
       "  --sklearn-color-border-box: var(--sg-text-color, var(--theme-code-foreground, var(--jp-content-font-color1, black)));\n",
       "  --sklearn-color-icon: #696969;\n",
       "\n",
       "  @media (prefers-color-scheme: dark) {\n",
       "    /* Redefinition of color scheme for dark theme */\n",
       "    --sklearn-color-text-on-default-background: var(--sg-text-color, var(--theme-code-foreground, var(--jp-content-font-color1, white)));\n",
       "    --sklearn-color-background: var(--sg-background-color, var(--theme-background, var(--jp-layout-color0, #111)));\n",
       "    --sklearn-color-border-box: var(--sg-text-color, var(--theme-code-foreground, var(--jp-content-font-color1, white)));\n",
       "    --sklearn-color-icon: #878787;\n",
       "  }\n",
       "}\n",
       "\n",
       "#sk-container-id-1 {\n",
       "  color: var(--sklearn-color-text);\n",
       "}\n",
       "\n",
       "#sk-container-id-1 pre {\n",
       "  padding: 0;\n",
       "}\n",
       "\n",
       "#sk-container-id-1 input.sk-hidden--visually {\n",
       "  border: 0;\n",
       "  clip: rect(1px 1px 1px 1px);\n",
       "  clip: rect(1px, 1px, 1px, 1px);\n",
       "  height: 1px;\n",
       "  margin: -1px;\n",
       "  overflow: hidden;\n",
       "  padding: 0;\n",
       "  position: absolute;\n",
       "  width: 1px;\n",
       "}\n",
       "\n",
       "#sk-container-id-1 div.sk-dashed-wrapped {\n",
       "  border: 1px dashed var(--sklearn-color-line);\n",
       "  margin: 0 0.4em 0.5em 0.4em;\n",
       "  box-sizing: border-box;\n",
       "  padding-bottom: 0.4em;\n",
       "  background-color: var(--sklearn-color-background);\n",
       "}\n",
       "\n",
       "#sk-container-id-1 div.sk-container {\n",
       "  /* jupyter's `normalize.less` sets `[hidden] { display: none; }`\n",
       "     but bootstrap.min.css set `[hidden] { display: none !important; }`\n",
       "     so we also need the `!important` here to be able to override the\n",
       "     default hidden behavior on the sphinx rendered scikit-learn.org.\n",
       "     See: https://github.com/scikit-learn/scikit-learn/issues/21755 */\n",
       "  display: inline-block !important;\n",
       "  position: relative;\n",
       "}\n",
       "\n",
       "#sk-container-id-1 div.sk-text-repr-fallback {\n",
       "  display: none;\n",
       "}\n",
       "\n",
       "div.sk-parallel-item,\n",
       "div.sk-serial,\n",
       "div.sk-item {\n",
       "  /* draw centered vertical line to link estimators */\n",
       "  background-image: linear-gradient(var(--sklearn-color-text-on-default-background), var(--sklearn-color-text-on-default-background));\n",
       "  background-size: 2px 100%;\n",
       "  background-repeat: no-repeat;\n",
       "  background-position: center center;\n",
       "}\n",
       "\n",
       "/* Parallel-specific style estimator block */\n",
       "\n",
       "#sk-container-id-1 div.sk-parallel-item::after {\n",
       "  content: \"\";\n",
       "  width: 100%;\n",
       "  border-bottom: 2px solid var(--sklearn-color-text-on-default-background);\n",
       "  flex-grow: 1;\n",
       "}\n",
       "\n",
       "#sk-container-id-1 div.sk-parallel {\n",
       "  display: flex;\n",
       "  align-items: stretch;\n",
       "  justify-content: center;\n",
       "  background-color: var(--sklearn-color-background);\n",
       "  position: relative;\n",
       "}\n",
       "\n",
       "#sk-container-id-1 div.sk-parallel-item {\n",
       "  display: flex;\n",
       "  flex-direction: column;\n",
       "}\n",
       "\n",
       "#sk-container-id-1 div.sk-parallel-item:first-child::after {\n",
       "  align-self: flex-end;\n",
       "  width: 50%;\n",
       "}\n",
       "\n",
       "#sk-container-id-1 div.sk-parallel-item:last-child::after {\n",
       "  align-self: flex-start;\n",
       "  width: 50%;\n",
       "}\n",
       "\n",
       "#sk-container-id-1 div.sk-parallel-item:only-child::after {\n",
       "  width: 0;\n",
       "}\n",
       "\n",
       "/* Serial-specific style estimator block */\n",
       "\n",
       "#sk-container-id-1 div.sk-serial {\n",
       "  display: flex;\n",
       "  flex-direction: column;\n",
       "  align-items: center;\n",
       "  background-color: var(--sklearn-color-background);\n",
       "  padding-right: 1em;\n",
       "  padding-left: 1em;\n",
       "}\n",
       "\n",
       "\n",
       "/* Toggleable style: style used for estimator/Pipeline/ColumnTransformer box that is\n",
       "clickable and can be expanded/collapsed.\n",
       "- Pipeline and ColumnTransformer use this feature and define the default style\n",
       "- Estimators will overwrite some part of the style using the `sk-estimator` class\n",
       "*/\n",
       "\n",
       "/* Pipeline and ColumnTransformer style (default) */\n",
       "\n",
       "#sk-container-id-1 div.sk-toggleable {\n",
       "  /* Default theme specific background. It is overwritten whether we have a\n",
       "  specific estimator or a Pipeline/ColumnTransformer */\n",
       "  background-color: var(--sklearn-color-background);\n",
       "}\n",
       "\n",
       "/* Toggleable label */\n",
       "#sk-container-id-1 label.sk-toggleable__label {\n",
       "  cursor: pointer;\n",
       "  display: block;\n",
       "  width: 100%;\n",
       "  margin-bottom: 0;\n",
       "  padding: 0.5em;\n",
       "  box-sizing: border-box;\n",
       "  text-align: center;\n",
       "}\n",
       "\n",
       "#sk-container-id-1 label.sk-toggleable__label-arrow:before {\n",
       "  /* Arrow on the left of the label */\n",
       "  content: \"▸\";\n",
       "  float: left;\n",
       "  margin-right: 0.25em;\n",
       "  color: var(--sklearn-color-icon);\n",
       "}\n",
       "\n",
       "#sk-container-id-1 label.sk-toggleable__label-arrow:hover:before {\n",
       "  color: var(--sklearn-color-text);\n",
       "}\n",
       "\n",
       "/* Toggleable content - dropdown */\n",
       "\n",
       "#sk-container-id-1 div.sk-toggleable__content {\n",
       "  max-height: 0;\n",
       "  max-width: 0;\n",
       "  overflow: hidden;\n",
       "  text-align: left;\n",
       "  /* unfitted */\n",
       "  background-color: var(--sklearn-color-unfitted-level-0);\n",
       "}\n",
       "\n",
       "#sk-container-id-1 div.sk-toggleable__content.fitted {\n",
       "  /* fitted */\n",
       "  background-color: var(--sklearn-color-fitted-level-0);\n",
       "}\n",
       "\n",
       "#sk-container-id-1 div.sk-toggleable__content pre {\n",
       "  margin: 0.2em;\n",
       "  border-radius: 0.25em;\n",
       "  color: var(--sklearn-color-text);\n",
       "  /* unfitted */\n",
       "  background-color: var(--sklearn-color-unfitted-level-0);\n",
       "}\n",
       "\n",
       "#sk-container-id-1 div.sk-toggleable__content.fitted pre {\n",
       "  /* unfitted */\n",
       "  background-color: var(--sklearn-color-fitted-level-0);\n",
       "}\n",
       "\n",
       "#sk-container-id-1 input.sk-toggleable__control:checked~div.sk-toggleable__content {\n",
       "  /* Expand drop-down */\n",
       "  max-height: 200px;\n",
       "  max-width: 100%;\n",
       "  overflow: auto;\n",
       "}\n",
       "\n",
       "#sk-container-id-1 input.sk-toggleable__control:checked~label.sk-toggleable__label-arrow:before {\n",
       "  content: \"▾\";\n",
       "}\n",
       "\n",
       "/* Pipeline/ColumnTransformer-specific style */\n",
       "\n",
       "#sk-container-id-1 div.sk-label input.sk-toggleable__control:checked~label.sk-toggleable__label {\n",
       "  color: var(--sklearn-color-text);\n",
       "  background-color: var(--sklearn-color-unfitted-level-2);\n",
       "}\n",
       "\n",
       "#sk-container-id-1 div.sk-label.fitted input.sk-toggleable__control:checked~label.sk-toggleable__label {\n",
       "  background-color: var(--sklearn-color-fitted-level-2);\n",
       "}\n",
       "\n",
       "/* Estimator-specific style */\n",
       "\n",
       "/* Colorize estimator box */\n",
       "#sk-container-id-1 div.sk-estimator input.sk-toggleable__control:checked~label.sk-toggleable__label {\n",
       "  /* unfitted */\n",
       "  background-color: var(--sklearn-color-unfitted-level-2);\n",
       "}\n",
       "\n",
       "#sk-container-id-1 div.sk-estimator.fitted input.sk-toggleable__control:checked~label.sk-toggleable__label {\n",
       "  /* fitted */\n",
       "  background-color: var(--sklearn-color-fitted-level-2);\n",
       "}\n",
       "\n",
       "#sk-container-id-1 div.sk-label label.sk-toggleable__label,\n",
       "#sk-container-id-1 div.sk-label label {\n",
       "  /* The background is the default theme color */\n",
       "  color: var(--sklearn-color-text-on-default-background);\n",
       "}\n",
       "\n",
       "/* On hover, darken the color of the background */\n",
       "#sk-container-id-1 div.sk-label:hover label.sk-toggleable__label {\n",
       "  color: var(--sklearn-color-text);\n",
       "  background-color: var(--sklearn-color-unfitted-level-2);\n",
       "}\n",
       "\n",
       "/* Label box, darken color on hover, fitted */\n",
       "#sk-container-id-1 div.sk-label.fitted:hover label.sk-toggleable__label.fitted {\n",
       "  color: var(--sklearn-color-text);\n",
       "  background-color: var(--sklearn-color-fitted-level-2);\n",
       "}\n",
       "\n",
       "/* Estimator label */\n",
       "\n",
       "#sk-container-id-1 div.sk-label label {\n",
       "  font-family: monospace;\n",
       "  font-weight: bold;\n",
       "  display: inline-block;\n",
       "  line-height: 1.2em;\n",
       "}\n",
       "\n",
       "#sk-container-id-1 div.sk-label-container {\n",
       "  text-align: center;\n",
       "}\n",
       "\n",
       "/* Estimator-specific */\n",
       "#sk-container-id-1 div.sk-estimator {\n",
       "  font-family: monospace;\n",
       "  border: 1px dotted var(--sklearn-color-border-box);\n",
       "  border-radius: 0.25em;\n",
       "  box-sizing: border-box;\n",
       "  margin-bottom: 0.5em;\n",
       "  /* unfitted */\n",
       "  background-color: var(--sklearn-color-unfitted-level-0);\n",
       "}\n",
       "\n",
       "#sk-container-id-1 div.sk-estimator.fitted {\n",
       "  /* fitted */\n",
       "  background-color: var(--sklearn-color-fitted-level-0);\n",
       "}\n",
       "\n",
       "/* on hover */\n",
       "#sk-container-id-1 div.sk-estimator:hover {\n",
       "  /* unfitted */\n",
       "  background-color: var(--sklearn-color-unfitted-level-2);\n",
       "}\n",
       "\n",
       "#sk-container-id-1 div.sk-estimator.fitted:hover {\n",
       "  /* fitted */\n",
       "  background-color: var(--sklearn-color-fitted-level-2);\n",
       "}\n",
       "\n",
       "/* Specification for estimator info (e.g. \"i\" and \"?\") */\n",
       "\n",
       "/* Common style for \"i\" and \"?\" */\n",
       "\n",
       ".sk-estimator-doc-link,\n",
       "a:link.sk-estimator-doc-link,\n",
       "a:visited.sk-estimator-doc-link {\n",
       "  float: right;\n",
       "  font-size: smaller;\n",
       "  line-height: 1em;\n",
       "  font-family: monospace;\n",
       "  background-color: var(--sklearn-color-background);\n",
       "  border-radius: 1em;\n",
       "  height: 1em;\n",
       "  width: 1em;\n",
       "  text-decoration: none !important;\n",
       "  margin-left: 1ex;\n",
       "  /* unfitted */\n",
       "  border: var(--sklearn-color-unfitted-level-1) 1pt solid;\n",
       "  color: var(--sklearn-color-unfitted-level-1);\n",
       "}\n",
       "\n",
       ".sk-estimator-doc-link.fitted,\n",
       "a:link.sk-estimator-doc-link.fitted,\n",
       "a:visited.sk-estimator-doc-link.fitted {\n",
       "  /* fitted */\n",
       "  border: var(--sklearn-color-fitted-level-1) 1pt solid;\n",
       "  color: var(--sklearn-color-fitted-level-1);\n",
       "}\n",
       "\n",
       "/* On hover */\n",
       "div.sk-estimator:hover .sk-estimator-doc-link:hover,\n",
       ".sk-estimator-doc-link:hover,\n",
       "div.sk-label-container:hover .sk-estimator-doc-link:hover,\n",
       ".sk-estimator-doc-link:hover {\n",
       "  /* unfitted */\n",
       "  background-color: var(--sklearn-color-unfitted-level-3);\n",
       "  color: var(--sklearn-color-background);\n",
       "  text-decoration: none;\n",
       "}\n",
       "\n",
       "div.sk-estimator.fitted:hover .sk-estimator-doc-link.fitted:hover,\n",
       ".sk-estimator-doc-link.fitted:hover,\n",
       "div.sk-label-container:hover .sk-estimator-doc-link.fitted:hover,\n",
       ".sk-estimator-doc-link.fitted:hover {\n",
       "  /* fitted */\n",
       "  background-color: var(--sklearn-color-fitted-level-3);\n",
       "  color: var(--sklearn-color-background);\n",
       "  text-decoration: none;\n",
       "}\n",
       "\n",
       "/* Span, style for the box shown on hovering the info icon */\n",
       ".sk-estimator-doc-link span {\n",
       "  display: none;\n",
       "  z-index: 9999;\n",
       "  position: relative;\n",
       "  font-weight: normal;\n",
       "  right: .2ex;\n",
       "  padding: .5ex;\n",
       "  margin: .5ex;\n",
       "  width: min-content;\n",
       "  min-width: 20ex;\n",
       "  max-width: 50ex;\n",
       "  color: var(--sklearn-color-text);\n",
       "  box-shadow: 2pt 2pt 4pt #999;\n",
       "  /* unfitted */\n",
       "  background: var(--sklearn-color-unfitted-level-0);\n",
       "  border: .5pt solid var(--sklearn-color-unfitted-level-3);\n",
       "}\n",
       "\n",
       ".sk-estimator-doc-link.fitted span {\n",
       "  /* fitted */\n",
       "  background: var(--sklearn-color-fitted-level-0);\n",
       "  border: var(--sklearn-color-fitted-level-3);\n",
       "}\n",
       "\n",
       ".sk-estimator-doc-link:hover span {\n",
       "  display: block;\n",
       "}\n",
       "\n",
       "/* \"?\"-specific style due to the `<a>` HTML tag */\n",
       "\n",
       "#sk-container-id-1 a.estimator_doc_link {\n",
       "  float: right;\n",
       "  font-size: 1rem;\n",
       "  line-height: 1em;\n",
       "  font-family: monospace;\n",
       "  background-color: var(--sklearn-color-background);\n",
       "  border-radius: 1rem;\n",
       "  height: 1rem;\n",
       "  width: 1rem;\n",
       "  text-decoration: none;\n",
       "  /* unfitted */\n",
       "  color: var(--sklearn-color-unfitted-level-1);\n",
       "  border: var(--sklearn-color-unfitted-level-1) 1pt solid;\n",
       "}\n",
       "\n",
       "#sk-container-id-1 a.estimator_doc_link.fitted {\n",
       "  /* fitted */\n",
       "  border: var(--sklearn-color-fitted-level-1) 1pt solid;\n",
       "  color: var(--sklearn-color-fitted-level-1);\n",
       "}\n",
       "\n",
       "/* On hover */\n",
       "#sk-container-id-1 a.estimator_doc_link:hover {\n",
       "  /* unfitted */\n",
       "  background-color: var(--sklearn-color-unfitted-level-3);\n",
       "  color: var(--sklearn-color-background);\n",
       "  text-decoration: none;\n",
       "}\n",
       "\n",
       "#sk-container-id-1 a.estimator_doc_link.fitted:hover {\n",
       "  /* fitted */\n",
       "  background-color: var(--sklearn-color-fitted-level-3);\n",
       "}\n",
       "</style><div id=\"sk-container-id-1\" class=\"sk-top-container\"><div class=\"sk-text-repr-fallback\"><pre>DecisionTreeClassifier()</pre><b>In a Jupyter environment, please rerun this cell to show the HTML representation or trust the notebook. <br />On GitHub, the HTML representation is unable to render, please try loading this page with nbviewer.org.</b></div><div class=\"sk-container\" hidden><div class=\"sk-item\"><div class=\"sk-estimator fitted sk-toggleable\"><input class=\"sk-toggleable__control sk-hidden--visually\" id=\"sk-estimator-id-1\" type=\"checkbox\" checked><label for=\"sk-estimator-id-1\" class=\"sk-toggleable__label fitted sk-toggleable__label-arrow fitted\">&nbsp;&nbsp;DecisionTreeClassifier<a class=\"sk-estimator-doc-link fitted\" rel=\"noreferrer\" target=\"_blank\" href=\"https://scikit-learn.org/1.4/modules/generated/sklearn.tree.DecisionTreeClassifier.html\">?<span>Documentation for DecisionTreeClassifier</span></a><span class=\"sk-estimator-doc-link fitted\">i<span>Fitted</span></span></label><div class=\"sk-toggleable__content fitted\"><pre>DecisionTreeClassifier()</pre></div> </div></div></div></div>"
      ],
      "text/plain": [
       "DecisionTreeClassifier()"
      ]
     },
     "execution_count": 147,
     "metadata": {},
     "output_type": "execute_result"
    }
   ],
   "source": [
    "#Train the model\n",
    "model.fit(X_train, y_train)"
   ]
  },
  {
   "cell_type": "markdown",
   "id": "c6fcd3b6",
   "metadata": {},
   "source": [
    "### Check the score of our model"
   ]
  },
  {
   "cell_type": "code",
   "execution_count": 149,
   "id": "b5bbf9fb-96f8-47cc-9d16-463419947bb6",
   "metadata": {},
   "outputs": [
    {
     "data": {
      "text/plain": [
       "1.0"
      ]
     },
     "execution_count": 149,
     "metadata": {},
     "output_type": "execute_result"
    }
   ],
   "source": [
    "model.score(X_train, y_train)"
   ]
  },
  {
   "cell_type": "markdown",
   "id": "5334babc",
   "metadata": {},
   "source": [
    "### Predict using X_test"
   ]
  },
  {
   "cell_type": "code",
   "execution_count": 151,
   "id": "03ee0aa1",
   "metadata": {},
   "outputs": [],
   "source": [
    "y_pred = model.predict(X_test)"
   ]
  },
  {
   "cell_type": "markdown",
   "id": "3e765a17",
   "metadata": {},
   "source": [
    "### Check the accuracy of our prediction"
   ]
  },
  {
   "cell_type": "code",
   "execution_count": 153,
   "id": "e3cbbe28",
   "metadata": {},
   "outputs": [],
   "source": [
    "from sklearn import metrics"
   ]
  },
  {
   "cell_type": "code",
   "execution_count": 155,
   "id": "676bfc9d-8ef2-4e58-bceb-8d8359306e3e",
   "metadata": {},
   "outputs": [
    {
     "data": {
      "text/plain": [
       "0.7769483427888922"
      ]
     },
     "execution_count": 155,
     "metadata": {},
     "output_type": "execute_result"
    }
   ],
   "source": [
    "metrics.accuracy_score(y_test, y_pred)"
   ]
  },
  {
   "cell_type": "markdown",
   "id": "6be85131",
   "metadata": {},
   "source": [
    "### Create a confusion matrix"
   ]
  },
  {
   "cell_type": "code",
   "execution_count": 163,
   "id": "cecd2123-9dd7-411d-8d98-d705a4e67c81",
   "metadata": {},
   "outputs": [
    {
     "name": "stdout",
     "output_type": "stream",
     "text": [
      "[[1433  338]\n",
      " [ 409 1169]]\n"
     ]
    }
   ],
   "source": [
    "print(metrics.confusion_matrix(y_test, y_pred))"
   ]
  },
  {
   "cell_type": "markdown",
   "id": "ea7fc570",
   "metadata": {},
   "source": [
    "### Plot confusion matrix on heatmap"
   ]
  },
  {
   "cell_type": "code",
   "execution_count": 169,
   "id": "2ea9e299-f674-4783-98d6-da4b01b16300",
   "metadata": {},
   "outputs": [
    {
     "data": {
      "image/png": "[encoded data removed]",
      "text/plain": [
       "<Figure size 640x480 with 2 Axes>"
      ]
     },
     "metadata": {},
     "output_type": "display_data"
    }
   ],
   "source": [
    "sns.heatmap(metrics.confusion_matrix(y_test, y_pred), annot = True)\n",
    "plt.show()"
   ]
  },
  {
   "cell_type": "markdown",
   "id": "94ce910d",
   "metadata": {},
   "source": [
    "### Create classification report"
   ]
  },
  {
   "cell_type": "code",
   "execution_count": 171,
   "id": "20fdcf89-2921-46aa-8e18-87dd565cacd4",
   "metadata": {},
   "outputs": [
    {
     "name": "stdout",
     "output_type": "stream",
     "text": [
      "              precision    recall  f1-score   support\n",
      "\n",
      "           0       0.78      0.81      0.79      1771\n",
      "           1       0.78      0.74      0.76      1578\n",
      "\n",
      "    accuracy                           0.78      3349\n",
      "   macro avg       0.78      0.77      0.78      3349\n",
      "weighted avg       0.78      0.78      0.78      3349\n",
      "\n"
     ]
    }
   ],
   "source": [
    "print(metrics.classification_report(y_test, y_pred))"
   ]
  },
  {
   "cell_type": "markdown",
   "id": "b4aa4b1e",
   "metadata": {},
   "source": [
    "***"
   ]
  },
  {
   "cell_type": "markdown",
   "id": "23a86beb",
   "metadata": {},
   "source": [
    "# <span style = \"color : green;font-size:40px\"> Great Job! </span>"
   ]
  }
 ],
 "metadata": {
  "kernelspec": {
   "display_name": "Python 3 (ipykernel)",
   "language": "python",
   "name": "python3"
  },
  "language_info": {
   "codemirror_mode": {
    "name": "ipython",
    "version": 3
   },
   "file_extension": ".py",
   "mimetype": "text/x-python",
   "name": "python",
   "nbconvert_exporter": "python",
   "pygments_lexer": "ipython3",
   "version": "3.12.4"
  }
 },
 "nbformat": 4,
 "nbformat_minor": 5
}
